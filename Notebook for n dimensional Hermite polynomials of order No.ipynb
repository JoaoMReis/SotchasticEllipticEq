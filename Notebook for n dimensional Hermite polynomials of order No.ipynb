{
 "cells": [
  {
   "cell_type": "markdown",
   "metadata": {},
   "source": [
    "# n dimensional Hermite polynomails of order No"
   ]
  },
  {
   "cell_type": "markdown",
   "metadata": {},
   "source": [
    "This notebook computes all the $P+1$ $n$-th dimensional Hermite polynomials up to order $P$, based on the one dimensional polynomials,\n",
    "\n",
    "$$H_p(x) = (-1)^p e^{x^2} \\frac{d^p}{d x^p}(e^{-x^2})$$\n",
    "that corresponds to the Hermite basis with weight functions w.r.t. $e^{-x^2}$"
   ]
  },
  {
   "cell_type": "code",
   "execution_count": 3,
   "metadata": {},
   "outputs": [],
   "source": [
    "import scipy.special\n",
    "import numpy as np\n",
    "from sympy import Symbol\n",
    "import math\n",
    "import itertools"
   ]
  },
  {
   "cell_type": "code",
   "execution_count": null,
   "metadata": {},
   "outputs": [],
   "source": []
  },
  {
   "cell_type": "markdown",
   "metadata": {},
   "source": [
    "Following <cite data-cite=\"5889918/R7EQDS7U\"></cite> we construct the set of multi-indices given by $\\lambda (p)$"
   ]
  },
  {
   "cell_type": "code",
   "execution_count": 118,
   "metadata": {},
   "outputs": [],
   "source": [
    "N = 3 # dimension of xi\n",
    "No = 3 # maximal order of polynomials"
   ]
  },
  {
   "cell_type": "code",
   "execution_count": 119,
   "metadata": {},
   "outputs": [
    {
     "data": {
      "text/plain": [
       "array([3, 2, 1, 0])"
      ]
     },
     "execution_count": 119,
     "metadata": {},
     "output_type": "execute_result"
    }
   ],
   "source": [
    "S = np.ones(No+1, dtype='int')*range(No+1) # all orders that we need\n",
    "np.flip(S,0)"
   ]
  },
  {
   "cell_type": "code",
   "execution_count": 120,
   "metadata": {},
   "outputs": [
    {
     "name": "stdout",
     "output_type": "stream",
     "text": [
      "[[(1, 0, 0), (0, 1, 0), (0, 0, 1)], [(2, 0, 0), (1, 1, 0), (1, 0, 1), (0, 2, 0), (0, 1, 1), (0, 0, 2)], [(3, 0, 0), (2, 1, 0), (2, 0, 1), (1, 2, 0), (1, 1, 1), (1, 0, 2), (0, 3, 0), (0, 2, 1), (0, 1, 2), (0, 0, 3)]]\n"
     ]
    }
   ],
   "source": [
    "S = np.ones(No+1, dtype='int')*range(No+1) # all orders that we need\n",
    "S = np.flip(S,0)\n",
    "\n",
    "\n",
    "# permutations of the orders in the number of variables\n",
    "permutations = []\n",
    "permutations.append(list(itertools.product(S,repeat = N)))\n",
    "      \n",
    "# multi_index is a vector with elements [[lambda(1)], lambda(2), ..., lambda(No)]\n",
    "\n",
    "multi_index = []\n",
    "\n",
    "for n in range(1,No+1):\n",
    "    multi_index.append(list())\n",
    "    for l in range(len(permutations)):\n",
    "        myset = permutations[l]\n",
    "        for i in range(len(myset)):\n",
    "            mytuple = myset[i]\n",
    "            if sum(mytuple) == n:\n",
    "                multi_index[n-1].append(mytuple)\n",
    "print(multi_index)"
   ]
  },
  {
   "cell_type": "markdown",
   "metadata": {
    "collapsed": true
   },
   "source": [
    "Contruction of $\\Gamma_P(\\xi^*)$. This is the vector of $k$ dimensional Hermite polynomials up to order $P$ evaluated at the point $\\xi^*$, given in the reference by $\\Psi_k(\\xi^*) = \\Psi_k(\\xi_1^*, ..., \\xi_N^*)$. For sanity check, we should have the number of terms $P+1$ equal the number of iterations."
   ]
  },
  {
   "cell_type": "code",
   "execution_count": 116,
   "metadata": {},
   "outputs": [
    {
     "name": "stdout",
     "output_type": "stream",
     "text": [
      "0 0.0 1\n",
      "0 1.0 2\n",
      "1 2.0 2\n",
      "0 -2.0 3\n",
      "1 -2.0 3\n",
      "0 0.0 4\n",
      "0 1.0 5\n",
      "1 2.0 5\n",
      "0 -0.0 6\n",
      "0 -2.0 7\n",
      "1 -4.0 7\n",
      "0 0.0 8\n",
      "0 1.0 9\n",
      "1 -4.0 9\n"
     ]
    }
   ],
   "source": [
    "xi = np.linspace(0,1,N) # just a vector with N elements between [0,1]\n",
    "\n",
    "# number of terms in the truncated expansion\n",
    "P = int(math.factorial(No + N)/(math.factorial(No)*math.factorial(N))) - 1 \n",
    "\n",
    "\n",
    "\n",
    "# Contruction of \\Gamma_P\n",
    "Gamma_P = np.zeros(P+1)\n",
    "Gamma_P[0]=1\n",
    "k=1\n",
    "order = 0\n",
    "for lambda_p in multi_index:\n",
    "    for gamma in lambda_p:\n",
    "        prod = 1 # start product\n",
    "        i = 0    # iteration through each mode xi_i\n",
    "        for gamma_i in gamma:\n",
    "            # construction of psi_{gamma_i}(xi_i)\n",
    "            order = gamma_i   \n",
    "            point = xi[i]\n",
    "            prod *= scipy.special.hermite(order)(point)\n",
    "            print(i, prod,k)\n",
    "            if prod == 0:\n",
    "                break\n",
    "            i += 1\n",
    "        Gamma_P[k] = prod # store psi_s(xi)\n",
    "        k += 1 \n",
    "    order += 1"
   ]
  },
  {
   "cell_type": "code",
   "execution_count": null,
   "metadata": {},
   "outputs": [],
   "source": []
  },
  {
   "cell_type": "code",
   "execution_count": 117,
   "metadata": {},
   "outputs": [
    {
     "data": {
      "text/plain": [
       "array([ 1.,  0.,  2., -2.,  0.,  2., -0., -4.,  0., -4.])"
      ]
     },
     "execution_count": 117,
     "metadata": {},
     "output_type": "execute_result"
    }
   ],
   "source": [
    "Gamma_P"
   ]
  },
  {
   "cell_type": "code",
   "execution_count": null,
   "metadata": {},
   "outputs": [],
   "source": []
  },
  {
   "cell_type": "code",
   "execution_count": 16,
   "metadata": {},
   "outputs": [
    {
     "name": "stdout",
     "output_type": "stream",
     "text": [
      "0\n",
      "1\n",
      "2\n",
      "3\n",
      "4\n",
      "5\n",
      "6\n",
      "7\n",
      "8\n",
      "9\n",
      "10\n",
      "11\n",
      "12\n",
      "13\n",
      "14\n",
      "15\n",
      "16\n",
      "17\n",
      "18\n",
      "19\n",
      "20\n",
      "21\n",
      "22\n",
      "23\n",
      "24\n",
      "25\n",
      "26\n",
      "27\n",
      "28\n",
      "29\n",
      "30\n",
      "31\n",
      "32\n",
      "33\n",
      "34\n",
      "35\n",
      "36\n",
      "37\n",
      "38\n",
      "39\n",
      "40\n",
      "41\n",
      "42\n",
      "43\n",
      "44\n",
      "45\n",
      "46\n",
      "47\n",
      "48\n",
      "49\n",
      "51\n",
      "52\n",
      "53\n",
      "54\n",
      "55\n",
      "56\n",
      "57\n",
      "58\n",
      "59\n",
      "60\n",
      "61\n",
      "62\n",
      "63\n",
      "64\n",
      "65\n",
      "66\n",
      "67\n",
      "68\n",
      "69\n",
      "70\n",
      "71\n",
      "72\n",
      "73\n",
      "74\n",
      "75\n",
      "76\n",
      "77\n",
      "78\n",
      "79\n",
      "80\n",
      "81\n",
      "82\n",
      "83\n",
      "84\n",
      "85\n",
      "86\n",
      "87\n",
      "88\n",
      "89\n",
      "90\n",
      "91\n",
      "92\n",
      "93\n",
      "94\n",
      "95\n",
      "96\n",
      "97\n",
      "98\n",
      "99\n"
     ]
    }
   ],
   "source": [
    "for i in [x for x in range(100) if x != 50]:\n",
    "    print(i)"
   ]
  },
  {
   "cell_type": "code",
   "execution_count": null,
   "metadata": {
    "collapsed": true
   },
   "outputs": [],
   "source": []
  }
 ],
 "metadata": {
  "cite2c": {
   "citations": {
    "5889918/R7EQDS7U": {
     "ISBN": "978-94-007-3192-9",
     "abstract": "This book deals with the application of spectral methods to problems of uncertainty propagation and quanti?cation in model-based computations. It speci?cally focuses on computational and algorithmic features of these methods which are most useful in dealing with models based on partial differential equations, with special att- tion to models arising in simulations of ?uid ?ows. Implementations are illustrated through applications to elementary problems, as well as more elaborate examples selected from the authors’ interests in incompressible vortex-dominated ?ows and compressible ?ows at low Mach numbers. Spectral stochastic methods are probabilistic in nature, and are consequently rooted in the rich mathematical foundation associated with probability and measure spaces. Despite the authors’ fascination with this foundation, the discussion only - ludes to those theoretical aspects needed to set the stage for subsequent applications. The book is authored by practitioners, and is primarily intended for researchers or graduate students in computational mathematics, physics, or ?uid dynamics. The book assumes familiarity with elementary methods for the numerical solution of time-dependent, partial differential equations; prior experience with spectral me- ods is naturally helpful though not essential. Full appreciation of elaborate examples in computational ?uid dynamics (CFD) would require familiarity with key, and in some cases delicate, features of the associated numerical methods. Besides these shortcomings, our aim is to treat algorithmic and computational aspects of spectral stochastic methods with details suf?cient to address and reconstruct all but those highly elaborate examples.",
     "author": [
      {
       "family": "Maitre",
       "given": "Olivier Le"
      },
      {
       "family": "Knio",
       "given": "Omar M."
      }
     ],
     "id": "5889918/R7EQDS7U",
     "issued": {
      "day": 28,
      "month": 5,
      "year": 2012
     },
     "language": "en",
     "note": "Google-Books-ID: RV8RLwEACAAJ",
     "number-of-pages": "536",
     "publisher": "Springer Netherlands",
     "shortTitle": "Spectral Methods for Uncertainty Quantification",
     "title": "Spectral Methods for Uncertainty Quantification: With Applications to Computational Fluid Dynamics",
     "title-short": "Spectral Methods for Uncertainty Quantification",
     "type": "book"
    }
   }
  },
  "kernelspec": {
   "display_name": "Python 3",
   "language": "python",
   "name": "python3"
  },
  "language_info": {
   "codemirror_mode": {
    "name": "ipython",
    "version": 3
   },
   "file_extension": ".py",
   "mimetype": "text/x-python",
   "name": "python",
   "nbconvert_exporter": "python",
   "pygments_lexer": "ipython3",
   "version": "3.6.3"
  }
 },
 "nbformat": 4,
 "nbformat_minor": 2
}
