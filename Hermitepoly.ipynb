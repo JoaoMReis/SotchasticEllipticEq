{
 "cells": [
  {
   "cell_type": "markdown",
   "metadata": {},
   "source": [
    "# n dimensional Hermite polynomails of order P"
   ]
  },
  {
   "cell_type": "markdown",
   "metadata": {},
   "source": [
    "This notebook computes all the $P+1$ $n$-th dimensional Hermite polynomials up to order $P$, based on the one dimensional polynomials,\n",
    "\n",
    "$$H_p(x) = (-1)^p e^{x^2} \\frac{d^p}{d x^p}(e^{-x^2})$$\n",
    "that corresponds to the Hermite basis with weight functions w.r.t. $e^{-x^2}$"
   ]
  },
  {
   "cell_type": "code",
   "execution_count": 17,
   "metadata": {},
   "outputs": [],
   "source": [
    "import scipy.special\n",
    "import numpy as np\n",
    "from sympy import Symbol\n",
    "import math\n",
    "import itertools\n",
    "import matplotlib.pyplot as plt"
   ]
  },
  {
   "cell_type": "code",
   "execution_count": 61,
   "metadata": {},
   "outputs": [],
   "source": [
    "def hermitepoly(xi, No):\n",
    "    \n",
    "    N = len(xi) \n",
    "    S = np.ones(No+1, dtype='int')*range(No+1)\n",
    "    S = np.flip(S,0)\n",
    "    \n",
    "    \n",
    "    P = int(math.factorial(No + N)/(math.factorial(No)*math.factorial(N))) - 1\n",
    "    \n",
    "    permutations = []\n",
    "    permutations.append(list(itertools.product(S,repeat = N)))\n",
    "    \n",
    "    \n",
    "    \n",
    "    # multi_index is the set of multi-indices [[lambda(1)], lambda(2), ..., lambda(No)]\n",
    "    \n",
    "    multi_index = []\n",
    "    \n",
    "    for n in range(1,No+1):\n",
    "        multi_index.append(list())\n",
    "        for l in range(len(permutations)):\n",
    "            myset = permutations[l]\n",
    "            for i in range(len(myset)):\n",
    "                mytuple = myset[i]\n",
    "                if sum(mytuple) == n:\n",
    "                    multi_index[n-1].append(mytuple)\n",
    "     \n",
    "   \n",
    "    Gamma_P = np.zeros(P+1)\n",
    "    Gamma_P[0]=1\n",
    "    p=1\n",
    "    order = 1\n",
    "    for lambda_p in multi_index:\n",
    "        for gamma in lambda_p:\n",
    "            prod = 1 # start product\n",
    "            i = 0    # iteration through each mode xi_i\n",
    "            for gamma_i in gamma:\n",
    "                # construction of psi_{gamma_i}(xi_i)\n",
    "                order = gamma_i   \n",
    "                point = xi[i]\n",
    "                prod *= scipy.special.hermite(order)(point)\n",
    "                if prod == 0:\n",
    "                    break\n",
    "                i += 1\n",
    "            Gamma_P[p] = prod # store psi_s(xi)\n",
    "            p += 1 \n",
    "        order += 1\n",
    "        \n",
    "        \n",
    "    return Gamma_P"
   ]
  },
  {
   "cell_type": "code",
   "execution_count": null,
   "metadata": {},
   "outputs": [],
   "source": []
  }
 ],
 "metadata": {
  "kernelspec": {
   "display_name": "Python 3",
   "language": "python",
   "name": "python3"
  },
  "language_info": {
   "codemirror_mode": {
    "name": "ipython",
    "version": 3
   },
   "file_extension": ".py",
   "mimetype": "text/x-python",
   "name": "python",
   "nbconvert_exporter": "python",
   "pygments_lexer": "ipython3",
   "version": "3.6.3"
  }
 },
 "nbformat": 4,
 "nbformat_minor": 2
}
