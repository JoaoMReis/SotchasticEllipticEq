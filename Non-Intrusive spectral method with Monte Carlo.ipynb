{
 "cells": [
  {
   "cell_type": "code",
   "execution_count": 1,
   "metadata": {},
   "outputs": [],
   "source": [
    "import numpy as np\n",
    "import scipy.special\n",
    "import matplotlib.pyplot as plt\n",
    "from scipy.interpolate import interp1d\n",
    "from scipy import integrate"
   ]
  },
  {
   "cell_type": "markdown",
   "metadata": {},
   "source": [
    "This notebook is a description of a non-intrusive spectral method . This method is illustrated with by solving the stochastic elliptic equation\n",
    "\n",
    "$$\n",
    "\\partial_x [ k(x,\\theta) \\partial_x u(x, k(\\theta))] = f(x)\n",
    "$$\n",
    "\n",
    "for $x \\in [0,1]$ and $\\theta \\sim $ log-normal$(\\mu, \\sigma)$.\n",
    "\n",
    "A spectral method is any method used to calculate the coefficients $u_i$ and orthogonal basis $\\psi_i$ of a spectral expansion. In this case, we want to find such elements for an expansion of $u(x,\\theta)$. Something like:\n",
    "\n",
    "$$\n",
    "u(x, k(\\theta)) = \\sum_{s=1}^P u_s(x; k(\\theta)) \\psi_s(k(\\theta))\n",
    "$$\n",
    "\n",
    "The problem here is that (for whatever reason) we can't take $\\theta$ but instead we need to write the parameter $k$ as a combination of i.i.d. variables. This is where the germ comes into play. The germ is the vector $\\underline{\\xi} = (\\xi_1, ..., \\xi_{N_{kl}}) \\in \\mathbb{R}^{N_{kl}}$. We use then a truncated KL expansion over the random vector $\\underline{\\xi}$ to write an approximation of $k$,\n",
    "\n",
    "$$\\hat{k}^{(j)}(x, \\underline{\\xi}) = \\mu + \\sum_{i=1}^{N_{kl}} \\sqrt{\\lambda_i} \\phi_i(x) \\xi^{(j)}_i$$ for $j=1, .., M$ where $\\xi^{(j)}_i$ is the $i$-th element of the $j$-th sample.\n",
    "\n",
    "Therefore, the spectral expansion of the solution takes the form:\n",
    "\n",
    "$$\n",
    "u(x, \\underline{\\xi}) = \\sum_{s=1}^P u_s(x,\\underline{\\xi} ) \\psi_s(\\underline{\\xi})\n",
    "$$\n",
    "where by orthogonality, the coefficients $u_s(x,\\underline{\\xi} )$ are given by\n",
    "\n",
    "$$\n",
    "u_s(x,\\underline{\\xi} ) = \\frac{1}{\\|\\psi_s\\|^2} \\int_\\Xi u(x, \\underline{\\xi}) \\psi_s(\\underline{\\xi}) dP(\\xi) \n",
    "$$\n",
    "\n",
    "These are the steps towards the non-intrusive spectral projection (NISP).\n",
    "\n",
    "1. Generate M samples of $\\underline{\\xi}^{(j)}$ that are normal distributed. We choose this distribution because we it's a nice one; \n",
    "\n",
    "2. Compute the KL modes $\\lambda_i$ and eigenvectors $\\phi_i(x)$ of $\\hat{k}$;\n",
    "\n",
    "3. Compute the samples $\\hat{k}^{(j)}$ using truncated KL-expansion;\n",
    "\n",
    "4. Solve $M$ deterministic problems $\\partial_x [ \\hat{k}^{(j)} \\partial_x u(x, k(\\theta))] = f(x)$;\n",
    "\n",
    "5. Generate $P$ Hermite polynomials of dimention $N_{kl}$ up to order N_0. These polynomials are Hermite because $\\underline{\\xi}$ are normal. This will be a vector that represent the  the polynomials of the basis at the samples sets, i.e., $[ ... \\psi_i(\\underline{\\xi}^{(j)}), \\psi_i(\\underline{\\xi}^{(j+1)}), ... ]$. Something exactly of the form (2.45) in <cite data-cite=\"5889918/R7EQDS7U\"></cite>\n",
    "\n",
    "6. Compute $u_s(x,\\underline{\\xi} )$ solving the integral with Monte-Carlo."
   ]
  },
  {
   "cell_type": "markdown",
   "metadata": {},
   "source": [
    "Generate M samples of $\\underline{\\xi}^{(j)}$ that are normal distributed. We choose this distribution because we it's a nice one;"
   ]
  },
  {
   "cell_type": "code",
   "execution_count": 37,
   "metadata": {},
   "outputs": [],
   "source": [
    "Nkl = 7\n",
    "M = 100\n",
    "\n",
    "\n",
    "# 1.\n",
    "mu = 1\n",
    "sigma = 0.1\n",
    "\n",
    "xi_samples = np.zeros((Nkl, M))\n",
    "for i in range(Nkl):\n",
    "    xi_samples[i, :] = np.random.normal(mu, sigma, M) "
   ]
  },
  {
   "cell_type": "markdown",
   "metadata": {},
   "source": [
    "Compute the KL modes $\\sqrt{\\lambda_i}$ and eigenvectors $\\phi_i(x)$ of $\\hat{k}$;"
   ]
  },
  {
   "cell_type": "code",
   "execution_count": 38,
   "metadata": {},
   "outputs": [],
   "source": [
    "Nel = 12\n",
    "Omega = np.linspace(0,1,Nel)\n",
    "h = Omega[1] - Omega[0]\n",
    "if Nel < Nkl:\n",
    "    raise Exception('number of elements is smaller than the number of modes')\n",
    "var = sigma**2\n",
    "l = 0.1 \n",
    "\n",
    "%run KL_decomposition.ipynb\n",
    "\n",
    "Eign = KLexpansion(Nel, var, l)\n",
    "\n",
    "#here we keeping the lardest Nkl modes corresponding eigenvectors \n",
    "modes = np.sqrt(Eign[0])[Nel - Nkl: Nel]\n",
    "eigenvectors = Eign[1][Nel - Nkl: Nel,:] # eigenvectors[j,i] gives the eigenvector on point xi_j for mode i "
   ]
  },
  {
   "cell_type": "markdown",
   "metadata": {},
   "source": [
    "Compute the samples $\\hat{k}^{(j)}$ using truncated KL-expansion;"
   ]
  },
  {
   "cell_type": "code",
   "execution_count": 39,
   "metadata": {},
   "outputs": [],
   "source": [
    "k_samples = np.zeros( (M, Nel) ) # k(x, xi, j), j = 1,..., M\n",
    "\n",
    "mu_vector = mu*np.ones(Nel)\n",
    "for j in range(M):\n",
    "    prod_aux = np.zeros( (Nkl,Nel) )\n",
    "    for i in range(Nkl):\n",
    "        prod_aux[i,:] = modes[i]*xi_samples[i,j]*eigenvectors[i,:]\n",
    "    k_samples[j,:] = np.exp(mu_vector[:] + np.sum(prod_aux))"
   ]
  },
  {
   "cell_type": "markdown",
   "metadata": {},
   "source": [
    "Solve $M$ deterministic problems $\\partial_x [ \\hat{k}^{(j)} \\partial_x u(x, k(\\theta))] = f(x)$;"
   ]
  },
  {
   "cell_type": "code",
   "execution_count": 40,
   "metadata": {},
   "outputs": [
    {
     "data": {
      "image/png": "[encoded data removed]",
      "text/plain": [
       "<matplotlib.figure.Figure at 0x1813715dd8>"
      ]
     },
     "metadata": {},
     "output_type": "display_data"
    }
   ],
   "source": [
    "%run Galerkin1DElliptic.ipynb\n",
    "\n",
    "f = lambda x: 1\n",
    "alpha = Omega[0]  # LHS boundary\n",
    "beta = Omega[-1]  # RHS boundary\n",
    "u_alpha = 0       # u(0)\n",
    "u_beta = 0        # u(1)\n",
    "\n",
    "solution_samples = np.zeros((M,Nel))\n",
    "\n",
    "\n",
    "for j in range(M):\n",
    "    solution_samples[j,:] = Galerkin1DElliptic(Nel, f, alpha, beta, u_alpha, u_beta,\\\n",
    "                                               k_samples[j,:])\n",
    "    plt.plot(Omega,solution_samples[j])\n",
    "\n",
    "plt.show()"
   ]
  },
  {
   "cell_type": "markdown",
   "metadata": {},
   "source": [
    "Generate $M$ samples of $N_{kl}$-dimensional polynomials up to order $N_0$."
   ]
  },
  {
   "cell_type": "code",
   "execution_count": 41,
   "metadata": {},
   "outputs": [],
   "source": [
    "%run Hermitepoly.ipynb"
   ]
  },
  {
   "cell_type": "code",
   "execution_count": 42,
   "metadata": {},
   "outputs": [],
   "source": [
    "No = 3\n",
    "P = int(math.factorial(No + Nkl)/(math.factorial(No)*math.factorial(Nkl))) - 1\n",
    "\n",
    "gammaMatrix = np.zeros((P+1, M))\n",
    "\n",
    "for i in range(M):\n",
    "    gammaMatrix[:,i] = hermitepoly(xi_samples[:,i], No)"
   ]
  },
  {
   "cell_type": "code",
   "execution_count": 43,
   "metadata": {},
   "outputs": [
    {
     "name": "stdout",
     "output_type": "stream",
     "text": [
      "66.9138182907\n"
     ]
    }
   ],
   "source": [
    "uCoeff = np.zeros((Nel, P+1))\n",
    "\n",
    "norm_vector = np.zeros(P+1)\n",
    "for p in range(P+1):\n",
    "    s = 0\n",
    "    for m in range(M):\n",
    "        s += 1/M*gammaMatrix[p,m]**2\n",
    "    norm_vector[p] = s \n",
    "\n",
    "print(norm_vector[76])\n",
    "\n",
    "for s in range(P+1):\n",
    "    integral = np.zeros(Nel)\n",
    "    for m in range(M):\n",
    "        integral[:] += gammaMatrix[s,m]*solution_samples[m,:]\n",
    "    uCoeff[:,s] = 1/(M*norm_vector[s]**2)*integral"
   ]
  },
  {
   "cell_type": "code",
   "execution_count": 44,
   "metadata": {},
   "outputs": [
    {
     "data": {
      "text/plain": [
       "array([ 0.        ,  0.18024333,  0.324438  ,  0.432584  ,  0.50468133,\n",
       "        0.54073   ,  0.54073   ,  0.50468133,  0.432584  ,  0.324438  ,\n",
       "        0.18024333,  0.        ])"
      ]
     },
     "execution_count": 44,
     "metadata": {},
     "output_type": "execute_result"
    }
   ],
   "source": [
    "sol = np.zeros(Nel)\n",
    "\n",
    "for i in range(Nel): \n",
    "    for s in range(P+1):\n",
    "        sol[i] += uCoeff[i,s]*gammaMatrix[s,1]\n",
    "\n",
    "sol "
   ]
  },
  {
   "cell_type": "code",
   "execution_count": 45,
   "metadata": {},
   "outputs": [
    {
     "data": {
      "image/png": "[encoded data removed]",
      "text/plain": [
       "<matplotlib.figure.Figure at 0x181350a0f0>"
      ]
     },
     "metadata": {},
     "output_type": "display_data"
    }
   ],
   "source": [
    "plt.plot(Omega,sol)\n",
    "plt.show()"
   ]
  },
  {
   "cell_type": "code",
   "execution_count": null,
   "metadata": {},
   "outputs": [],
   "source": []
  }
 ],
 "metadata": {
  "cite2c": {
   "citations": {
    "5889918/R7EQDS7U": {
     "ISBN": "978-94-007-3192-9",
     "abstract": "This book deals with the application of spectral methods to problems of uncertainty propagation and quanti?cation in model-based computations. It speci?cally focuses on computational and algorithmic features of these methods which are most useful in dealing with models based on partial differential equations, with special att- tion to models arising in simulations of ?uid ?ows. Implementations are illustrated through applications to elementary problems, as well as more elaborate examples selected from the authors’ interests in incompressible vortex-dominated ?ows and compressible ?ows at low Mach numbers. Spectral stochastic methods are probabilistic in nature, and are consequently rooted in the rich mathematical foundation associated with probability and measure spaces. Despite the authors’ fascination with this foundation, the discussion only - ludes to those theoretical aspects needed to set the stage for subsequent applications. The book is authored by practitioners, and is primarily intended for researchers or graduate students in computational mathematics, physics, or ?uid dynamics. The book assumes familiarity with elementary methods for the numerical solution of time-dependent, partial differential equations; prior experience with spectral me- ods is naturally helpful though not essential. Full appreciation of elaborate examples in computational ?uid dynamics (CFD) would require familiarity with key, and in some cases delicate, features of the associated numerical methods. Besides these shortcomings, our aim is to treat algorithmic and computational aspects of spectral stochastic methods with details suf?cient to address and reconstruct all but those highly elaborate examples.",
     "author": [
      {
       "family": "Maitre",
       "given": "Olivier Le"
      },
      {
       "family": "Knio",
       "given": "Omar M."
      }
     ],
     "id": "5889918/R7EQDS7U",
     "issued": {
      "day": 28,
      "month": 5,
      "year": 2012
     },
     "language": "en",
     "note": "Google-Books-ID: RV8RLwEACAAJ",
     "number-of-pages": "536",
     "publisher": "Springer Netherlands",
     "shortTitle": "Spectral Methods for Uncertainty Quantification",
     "title": "Spectral Methods for Uncertainty Quantification: With Applications to Computational Fluid Dynamics",
     "title-short": "Spectral Methods for Uncertainty Quantification",
     "type": "book"
    }
   }
  },
  "kernelspec": {
   "display_name": "Python 3",
   "language": "python",
   "name": "python3"
  },
  "language_info": {
   "codemirror_mode": {
    "name": "ipython",
    "version": 3
   },
   "file_extension": ".py",
   "mimetype": "text/x-python",
   "name": "python",
   "nbconvert_exporter": "python",
   "pygments_lexer": "ipython3",
   "version": "3.6.3"
  }
 },
 "nbformat": 4,
 "nbformat_minor": 2
}
