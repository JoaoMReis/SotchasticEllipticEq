{
 "cells": [
  {
   "cell_type": "code",
   "execution_count": 10,
   "metadata": {
    "collapsed": true
   },
   "outputs": [],
   "source": [
    "import numpy as np\n",
    "from sympy import *\n",
    "from scipy.interpolate import interp1d\n",
    "from scipy import integrate\n",
    "from IPython.display import Markdown, display\n",
    "import matplotlib.pyplot as plt"
   ]
  },
  {
   "cell_type": "markdown",
   "metadata": {},
   "source": [
    "This notebook solves the one-dimensional elliptic equation $$\\partial_x k(x) \\partial_{x} u(x) = -f(x)$$ for $x \\in \\Omega := [\\alpha,\\beta]$ and boundary conditions $u(\\alpha) = u_\\alpha$ and $u(\\beta) = u_\\beta$ using the Galerkin Method"
   ]
  },
  {
   "cell_type": "code",
   "execution_count": 11,
   "metadata": {
    "collapsed": true
   },
   "outputs": [],
   "source": [
    "def Galerkin1DElliptic(N, f, alpha, beta, u_alpha, u_beta, cond):\n",
    "    \n",
    "    \n",
    "    # N = 10             number of spacial points\n",
    "    # f = lambda x: -1   source function\n",
    "    # u_alpha            LHS boundary value\n",
    "    # u_beta             RHS boundary value\n",
    "    # cond               conductive term\n",
    "     \n",
    "    \n",
    "    # problem set up\n",
    "    Omega = np.linspace(alpha, beta, N)    # spacial domain\n",
    "    u0 = u_alpha                           # for convineance\n",
    "    uN = u_beta                            # for convineance\n",
    "    dx = Omega[1] - Omega[0]               # step size\n",
    "    \n",
    "    # interpolating conductive term over Omega\n",
    "    cond_interp = interp1d(Omega, cond, kind='cubic') \n",
    "    \n",
    "    # setting orthogonal basis functions\n",
    "    x, x_km1, x_k = symbols('x x_{k-1} x_k')\n",
    "    phi_km1 = lambda z, x_km1, x_k: (z - x_km1)/(x_k - x_km1)\n",
    "    phi_k = lambda z, x_km1, x_k: (x_k - z)/(x_k - x_km1)\n",
    "\n",
    "\n",
    "    # filling mass matrix\n",
    "    A_aux = np.zeros((N,N))\n",
    "    for k in range(N-1):\n",
    "        a = Omega[k]\n",
    "        b = Omega[k+1]\n",
    "        M_k = np.zeros((N,N))\n",
    "        M_k[k,k] = integrate.quad(cond_interp, a, b)[0]\n",
    "        M_k[k,k+1] = -M_k[k,k]\n",
    "        M_k[k+1,k] = -M_k[k,k]\n",
    "        M_k[k+1,k+1] = M_k[k,k]\n",
    "        A_aux += 1/(dx)**2*M_k\n",
    "    # ------------------------------\n",
    "\n",
    "\n",
    "    # filling source vector\n",
    "    F_aux = np.zeros(N)\n",
    "    for k in range(N-1):\n",
    "        a = Omega[k]\n",
    "        b = Omega[k+1]\n",
    "        F_k = np.zeros(N)\n",
    "        \n",
    "        int_km1 = lambda x: f(x)*phi_km1(x,a,b)\n",
    "        F_k[k] = integrate.quad(int_km1, a, b)[0]\n",
    "        \n",
    "        int_k = lambda x: f(x)*phi_k(x,a,b)\n",
    "        F_k[k+1] = integrate.quad(int_k, a, b)[0]\n",
    "        \n",
    "        F_aux += F_k\n",
    "    # ------------------------------\n",
    "\n",
    "\n",
    "    # Add contrubution to the solution\n",
    "    F_aux = F_aux\n",
    "    \n",
    "\n",
    "    # dirichlet boundary conditions\n",
    "    A = A_aux[1:-1,1:-1]\n",
    "    F = F_aux[1:-1]\n",
    "    F[0] += -A_aux[1,0]*u0\n",
    "    F[-1] += -A_aux[-2, -1]*uN\n",
    "    # ------------------------------\n",
    "\n",
    "\n",
    "\n",
    "    # constructing solution\n",
    "    u_aux = np.linalg.solve(A,F)\n",
    "    u = np.zeros(N)\n",
    "    u[0] = u0\n",
    "    u[-1] = uN\n",
    "    u[1:-1] = u_aux\n",
    "    \n",
    "    return u"
   ]
  },
  {
   "cell_type": "code",
   "execution_count": null,
   "metadata": {
    "collapsed": true
   },
   "outputs": [],
   "source": []
  }
 ],
 "metadata": {
  "kernelspec": {
   "display_name": "Python 3",
   "language": "python",
   "name": "python3"
  },
  "language_info": {
   "codemirror_mode": {
    "name": "ipython",
    "version": 3
   },
   "file_extension": ".py",
   "mimetype": "text/x-python",
   "name": "python",
   "nbconvert_exporter": "python",
   "pygments_lexer": "ipython3",
   "version": "3.6.3"
  }
 },
 "nbformat": 4,
 "nbformat_minor": 2
}
